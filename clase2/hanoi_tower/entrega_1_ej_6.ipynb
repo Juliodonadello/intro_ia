{
 "cells": [
  {
   "cell_type": "markdown",
   "metadata": {},
   "source": [
    "# Ejecicio 6"
   ]
  },
  {
   "cell_type": "markdown",
   "metadata": {},
   "source": [
    "1. Definicion de algoritmo y estados iniciales (ej4)"
   ]
  },
  {
   "cell_type": "code",
   "execution_count": 3,
   "metadata": {},
   "outputs": [],
   "source": [
    "from hanoi_states import StatesHanoi, ProblemHanoi\n",
    "from tree_hanoi import NodeHanoi\n",
    "\n",
    "def busqueda(problem):\n",
    "    node_root = NodeHanoi(problem.initial)\n",
    "    lifo = [node_root]\n",
    "    explored = []\n",
    "\n",
    "    while len(lifo) > 0:\n",
    "        node = lifo.pop() # elimina el ultimo elemento de la lista (Last In First Out).\n",
    "\n",
    "        explored.append(node.state)\n",
    "        #print(node)\n",
    "\n",
    "        if problem.goal_test(node.state):\n",
    "            return node\n",
    "        \n",
    "        for child in node.expand(problem):\n",
    "            if child.state not in explored:\n",
    "                #fifo.insert(0,child) \n",
    "                lifo.append(child) # inserto los nuevos estados al final para que sean evaluados primero (Last In First Out). \n",
    "    return None\n",
    "\n",
    "initial_state = StatesHanoi([5,4,3,2,1],[],[], max_disks=5)\n",
    "goal_state = StatesHanoi([],[],[5,4,3,2,1], max_disks=5)\n",
    "problem_hanoi = ProblemHanoi(initial=initial_state, goal=goal_state)"
   ]
  },
  {
   "cell_type": "markdown",
   "metadata": {},
   "source": [
    "2. Función wrapper para la funcion de búsqueda"
   ]
  },
  {
   "cell_type": "code",
   "execution_count": 4,
   "metadata": {},
   "outputs": [],
   "source": [
    "def wrapper():\n",
    "    return busqueda(problem_hanoi)"
   ]
  },
  {
   "cell_type": "markdown",
   "metadata": {},
   "source": [
    "3. Importación de Módulo timeit \n",
    "   \n",
    "   **Para medición con múltiples ejecuciones**"
   ]
  },
  {
   "cell_type": "code",
   "execution_count": 5,
   "metadata": {},
   "outputs": [],
   "source": [
    "import time\n",
    "import timeit as tt\n",
    "from memory_profiler import memory_usage"
   ]
  },
  {
   "cell_type": "markdown",
   "metadata": {},
   "source": [
    "4. Medición "
   ]
  },
  {
   "cell_type": "code",
   "execution_count": 6,
   "metadata": {},
   "outputs": [],
   "source": [
    "n_ensayos = 10\n",
    "time_ensayos = []\n",
    "memory_ensayos = []"
   ]
  },
  {
   "cell_type": "code",
   "execution_count": 7,
   "metadata": {},
   "outputs": [],
   "source": [
    "for i in range(n_ensayos):\n",
    "    time_ensayo = tt.timeit(wrapper, number=1)\n",
    "    time_ensayos.append(time_ensayo)\n",
    "    memory_ensayo = max(memory_usage(wrapper))\n",
    "    memory_ensayos.append(memory_ensayo)\n",
    "    "
   ]
  },
  {
   "cell_type": "code",
   "execution_count": 8,
   "metadata": {},
   "outputs": [
    {
     "data": {
      "text/plain": [
       "[0.012875700020231307,\n",
       " 0.011145700002089143,\n",
       " 0.011147800018079579,\n",
       " 0.012148500012699515,\n",
       " 0.012264399963896722,\n",
       " 0.010504000005312264,\n",
       " 0.0108837999869138,\n",
       " 0.011754399980418384,\n",
       " 0.012630400015041232,\n",
       " 0.011217299965210259]"
      ]
     },
     "execution_count": 8,
     "metadata": {},
     "output_type": "execute_result"
    }
   ],
   "source": [
    "time_ensayos"
   ]
  },
  {
   "cell_type": "code",
   "execution_count": 9,
   "metadata": {},
   "outputs": [
    {
     "data": {
      "text/plain": [
       "[76.78515625,\n",
       " 76.85546875,\n",
       " 76.85546875,\n",
       " 76.85546875,\n",
       " 76.859375,\n",
       " 76.859375,\n",
       " 76.859375,\n",
       " 76.8125,\n",
       " 76.8125,\n",
       " 76.8125]"
      ]
     },
     "execution_count": 9,
     "metadata": {},
     "output_type": "execute_result"
    }
   ],
   "source": [
    "memory_ensayos"
   ]
  },
  {
   "cell_type": "markdown",
   "metadata": {},
   "source": [
    "5. Cálculos estadísticos"
   ]
  },
  {
   "cell_type": "code",
   "execution_count": 10,
   "metadata": {},
   "outputs": [],
   "source": [
    "from statistics import mean,stdev "
   ]
  },
  {
   "cell_type": "code",
   "execution_count": 12,
   "metadata": {},
   "outputs": [],
   "source": [
    "## TIEMPOS \n",
    "\n",
    "# MEDIA\n",
    "media_t = mean(time_ensayos)\n",
    "# DESVIO ESTANDAR\n",
    "desvio_estandar_t = stdev(time_ensayos)\n",
    "\n",
    "#----------------\n",
    "\n",
    "## MEMORIA\n",
    "\n",
    "# MEDIA\n",
    "media_m = mean(memory_ensayos)\n",
    "# DESVIO ESTANDAR\n",
    "desvio_estandar_m = stdev(memory_ensayos)\n"
   ]
  },
  {
   "cell_type": "markdown",
   "metadata": {},
   "source": [
    "6. Resultados"
   ]
  },
  {
   "cell_type": "code",
   "execution_count": 14,
   "metadata": {},
   "outputs": [
    {
     "name": "stdout",
     "output_type": "stream",
     "text": [
      "Promedio de tiempo de ejecución: 0.01165719999698922 segundos\n",
      "Desviación estándar de tiempo de ejecución: 0.0007954053013994314 segundos\n",
      "-----------\n",
      "Promedio de memoria pico de ejecución: 76.83671875 MiB\n",
      "Desviación estándar de memoria pico de ejecución: 0.02791443165804503 MiB\n"
     ]
    }
   ],
   "source": [
    "print(\"Promedio de tiempo de ejecución:\", media_t, \"segundos\")\n",
    "print(\"Desviación estándar de tiempo de ejecución:\", desvio_estandar_t, \"segundos\")\n",
    "print(\"-----------\")\n",
    "print(\"Promedio de memoria pico de ejecución:\", media_m, \"MiB\")\n",
    "print(\"Desviación estándar de memoria pico de ejecución:\", desvio_estandar_m, \"MiB\")"
   ]
  }
 ],
 "metadata": {
  "kernelspec": {
   "display_name": "Python 3",
   "language": "python",
   "name": "python3"
  },
  "language_info": {
   "codemirror_mode": {
    "name": "ipython",
    "version": 3
   },
   "file_extension": ".py",
   "mimetype": "text/x-python",
   "name": "python",
   "nbconvert_exporter": "python",
   "pygments_lexer": "ipython3",
   "version": "3.11.3"
  }
 },
 "nbformat": 4,
 "nbformat_minor": 2
}

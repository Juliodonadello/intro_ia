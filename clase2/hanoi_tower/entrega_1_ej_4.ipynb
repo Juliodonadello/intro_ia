{
 "cells": [
  {
   "cell_type": "markdown",
   "metadata": {},
   "source": [
    "# Ejecicio 4"
   ]
  },
  {
   "cell_type": "code",
   "execution_count": 1,
   "metadata": {},
   "outputs": [],
   "source": [
    "from hanoi_states import StatesHanoi, ProblemHanoi\n",
    "from tree_hanoi import NodeHanoi"
   ]
  },
  {
   "cell_type": "markdown",
   "metadata": {},
   "source": [
    "1. Inicializo el estado del juego"
   ]
  },
  {
   "cell_type": "code",
   "execution_count": 2,
   "metadata": {},
   "outputs": [
    {
     "data": {
      "text/plain": [
       "HanoiState: 5 4 3 2 1 |  | "
      ]
     },
     "execution_count": 2,
     "metadata": {},
     "output_type": "execute_result"
    }
   ],
   "source": [
    "initial_state = StatesHanoi([5,4,3,2,1],[],[], max_disks=5)\n",
    "initial_state"
   ]
  },
  {
   "cell_type": "markdown",
   "metadata": {},
   "source": [
    "2. Inicializo el estado objetivo"
   ]
  },
  {
   "cell_type": "code",
   "execution_count": 3,
   "metadata": {},
   "outputs": [
    {
     "data": {
      "text/plain": [
       "HanoiState:  |  | 5 4 3 2 1"
      ]
     },
     "execution_count": 3,
     "metadata": {},
     "output_type": "execute_result"
    }
   ],
   "source": [
    "goal_state = StatesHanoi([],[],[5,4,3,2,1], max_disks=5)\n",
    "goal_state"
   ]
  },
  {
   "cell_type": "markdown",
   "metadata": {},
   "source": [
    "3. Inicializo el problema a resolver"
   ]
  },
  {
   "cell_type": "code",
   "execution_count": 4,
   "metadata": {},
   "outputs": [
    {
     "data": {
      "text/plain": [
       "HanoiState: 5 4 3 2 1 |  | "
      ]
     },
     "execution_count": 4,
     "metadata": {},
     "output_type": "execute_result"
    }
   ],
   "source": [
    "problem_hanoi = ProblemHanoi(initial=initial_state, goal=goal_state)\n",
    "problem_hanoi.initial"
   ]
  },
  {
   "cell_type": "markdown",
   "metadata": {},
   "source": [
    "4. Creación del algoritmo de búsqueda\n",
    "   \n",
    "   **El método de insersión va a ser una pila (stack).**"
   ]
  },
  {
   "cell_type": "code",
   "execution_count": 5,
   "metadata": {},
   "outputs": [],
   "source": [
    "def busqueda(problem):\n",
    "    node_root = NodeHanoi(problem.initial)\n",
    "    lifo = [node_root]\n",
    "    explored = []\n",
    "\n",
    "    while len(lifo) > 0:\n",
    "        node = lifo.pop() # elimina el ultimo elemento de la lista (Last In First Out).\n",
    "\n",
    "        explored.append(node.state)\n",
    "        #print(node)\n",
    "\n",
    "        if problem.goal_test(node.state):\n",
    "            return node\n",
    "        \n",
    "        for child in node.expand(problem):\n",
    "            if child.state not in explored:\n",
    "                #fifo.insert(0,child) \n",
    "                lifo.append(child) # inserto los nuevos estados al final para que sean evaluados primero (Last In First Out). \n",
    "    return None"
   ]
  },
  {
   "cell_type": "markdown",
   "metadata": {},
   "source": [
    "4.1.1 Ejecuto la función implementada "
   ]
  },
  {
   "cell_type": "code",
   "execution_count": 6,
   "metadata": {},
   "outputs": [],
   "source": [
    "solution = busqueda(problem_hanoi)\n",
    "solution"
   ]
  },
  {
   "cell_type": "markdown",
   "metadata": {},
   "source": [
    "5. Creación de Json con movimientos para simulador"
   ]
  },
  {
   "cell_type": "code",
   "execution_count": 8,
   "metadata": {},
   "outputs": [],
   "source": [
    "solution.generate_solution_for_simulator()"
   ]
  }
 ],
 "metadata": {
  "kernelspec": {
   "display_name": "Python 3",
   "language": "python",
   "name": "python3"
  },
  "language_info": {
   "codemirror_mode": {
    "name": "ipython",
    "version": 3
   },
   "file_extension": ".py",
   "mimetype": "text/x-python",
   "name": "python",
   "nbconvert_exporter": "python",
   "pygments_lexer": "ipython3",
   "version": "3.11.3"
  }
 },
 "nbformat": 4,
 "nbformat_minor": 2
}

{
 "cells": [
  {
   "cell_type": "markdown",
   "metadata": {},
   "source": [
    "# Ejecicio 6"
   ]
  },
  {
   "cell_type": "markdown",
   "metadata": {},
   "source": [
    "1. Definicion de algoritmo y estados iniciales (ej4)"
   ]
  },
  {
   "cell_type": "code",
   "execution_count": 24,
   "metadata": {},
   "outputs": [],
   "source": [
    "from hanoi_states import StatesHanoi, ProblemHanoi\n",
    "from tree_hanoi import NodeHanoi\n",
    "\n",
    "def busqueda(problem):\n",
    "    '''\n",
    "    se agrega un contador de movimientos\n",
    "    '''\n",
    "    contador = 0\n",
    "\n",
    "    node_root = NodeHanoi(problem.initial)\n",
    "    lifo = [node_root]\n",
    "    explored = []\n",
    "\n",
    "    while len(lifo) > 0:\n",
    "        contador +=1\n",
    "        node = lifo.pop() # elimina el ultimo elemento de la lista (Last In First Out).\n",
    "\n",
    "        explored.append(node.state)\n",
    "        #print(contador)\n",
    "\n",
    "        if problem.goal_test(node.state):\n",
    "            return contador\n",
    "        \n",
    "        for child in node.expand(problem):\n",
    "            if child.state not in explored:\n",
    "                #fifo.insert(0,child) \n",
    "                lifo.append(child) # inserto los nuevos estados al final para que sean evaluados primero (Last In First Out). \n",
    "    return contador\n",
    "\n",
    "initial_state = StatesHanoi([5,4,3,2,1],[],[], max_disks=5)\n",
    "goal_state = StatesHanoi([],[],[5,4,3,2,1], max_disks=5)"
   ]
  },
  {
   "cell_type": "markdown",
   "metadata": {},
   "source": [
    "3. Medición cantidad de movimientos"
   ]
  },
  {
   "cell_type": "code",
   "execution_count": 28,
   "metadata": {},
   "outputs": [],
   "source": [
    "n_ensayos = 10\n",
    "movimientos_ensayos = []"
   ]
  },
  {
   "cell_type": "code",
   "execution_count": 29,
   "metadata": {},
   "outputs": [],
   "source": [
    "for i in range(n_ensayos):\n",
    "    problem_hanoi = ProblemHanoi(initial=initial_state, goal=goal_state)\n",
    "    movimientos_ensayo = busqueda(problem_hanoi)\n",
    "    movimientos_ensayos.append(movimientos_ensayo)\n",
    "    "
   ]
  },
  {
   "cell_type": "code",
   "execution_count": 30,
   "metadata": {},
   "outputs": [
    {
     "data": {
      "text/plain": [
       "[122, 122, 122, 122, 122, 122, 122, 122, 122, 122]"
      ]
     },
     "execution_count": 30,
     "metadata": {},
     "output_type": "execute_result"
    }
   ],
   "source": [
    "movimientos_ensayos #el algoritmo resuelve siempre por el mismo recorrido del arbol. Es redundante el cálculo de la media."
   ]
  },
  {
   "cell_type": "markdown",
   "metadata": {},
   "source": [
    "5. Cálculos estadísticos"
   ]
  },
  {
   "cell_type": "code",
   "execution_count": 32,
   "metadata": {},
   "outputs": [],
   "source": [
    "from statistics import mean "
   ]
  },
  {
   "cell_type": "code",
   "execution_count": 37,
   "metadata": {},
   "outputs": [],
   "source": [
    "## MOVIMIENTOS\n",
    "\n",
    "# MEDIA\n",
    "media_movimientos = mean(movimientos_ensayos)\n",
    "\n",
    "## DIFERENCIA con el resultado óptimo\n",
    "solucion_optima = (2**5 -1)\n",
    "dif = media_movimientos - solucion_optima\n"
   ]
  },
  {
   "cell_type": "markdown",
   "metadata": {},
   "source": [
    "6. Resultados"
   ]
  },
  {
   "cell_type": "code",
   "execution_count": 38,
   "metadata": {},
   "outputs": [
    {
     "name": "stdout",
     "output_type": "stream",
     "text": [
      "Diferencia de la implementación con la solución óptima: 91 movimientos\n"
     ]
    }
   ],
   "source": [
    "print(\"Diferencia de la implementación con la solución óptima:\", dif, \"movimientos\")"
   ]
  }
 ],
 "metadata": {
  "kernelspec": {
   "display_name": "Python 3",
   "language": "python",
   "name": "python3"
  },
  "language_info": {
   "codemirror_mode": {
    "name": "ipython",
    "version": 3
   },
   "file_extension": ".py",
   "mimetype": "text/x-python",
   "name": "python",
   "nbconvert_exporter": "python",
   "pygments_lexer": "ipython3",
   "version": "3.11.3"
  }
 },
 "nbformat": 4,
 "nbformat_minor": 2
}
